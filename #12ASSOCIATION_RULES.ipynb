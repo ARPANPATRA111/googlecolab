{
  "nbformat": 4,
  "nbformat_minor": 0,
  "metadata": {
    "colab": {
      "provenance": [],
      "authorship_tag": "ABX9TyOFyOom6M+KmzGvtevYfPdY",
      "include_colab_link": true
    },
    "kernelspec": {
      "name": "python3",
      "display_name": "Python 3"
    },
    "language_info": {
      "name": "python"
    }
  },
  "cells": [
    {
      "cell_type": "markdown",
      "metadata": {
        "id": "view-in-github",
        "colab_type": "text"
      },
      "source": [
        "<a href=\"https://colab.research.google.com/github/ARPANPATRA111/googlecolab/blob/main/%2312ASSOCIATION_RULES.ipynb\" target=\"_parent\"><img src=\"https://colab.research.google.com/assets/colab-badge.svg\" alt=\"Open In Colab\"/></a>"
      ]
    },
    {
      "cell_type": "markdown",
      "source": [
        "#12: ASSOCIATION RULES"
      ],
      "metadata": {
        "id": "ho8nXSqC34H4"
      }
    },
    {
      "cell_type": "markdown",
      "source": [
        "**1. How to Mine Association Rules Using R/Python**"
      ],
      "metadata": {
        "id": "fGgor3Jp37u_"
      }
    },
    {
      "cell_type": "code",
      "execution_count": 1,
      "metadata": {
        "colab": {
          "base_uri": "https://localhost:8080/"
        },
        "id": "nFoUc5b833Ih",
        "outputId": "4e32ced3-6fa2-4e63-c6f6-78cc08c43663"
      },
      "outputs": [
        {
          "output_type": "stream",
          "name": "stdout",
          "text": [
            "Frequent Itemsets:\n",
            "    support  itemsets\n",
            "0      0.6    (Milk)\n",
            "1      0.6   (Bread)\n",
            "2      0.6    (Eggs)\n",
            "3      0.6  (Butter)\n",
            "\n",
            "Association Rules:\n",
            " Empty DataFrame\n",
            "Columns: [antecedents, consequents, support, confidence, lift]\n",
            "Index: []\n"
          ]
        },
        {
          "output_type": "stream",
          "name": "stderr",
          "text": [
            "/usr/local/lib/python3.10/dist-packages/mlxtend/frequent_patterns/fpcommon.py:109: DeprecationWarning: DataFrames with non-bool types result in worse computationalperformance and their support might be discontinued in the future.Please use a DataFrame with bool type\n",
            "  warnings.warn(\n"
          ]
        }
      ],
      "source": [
        "# Mining association rules using the Apriori algorithm (mlxtend library)\n",
        "\n",
        "import pandas as pd\n",
        "from mlxtend.frequent_patterns import apriori, association_rules\n",
        "\n",
        "# Sample dataset: a list of transactions\n",
        "data = {'Milk': [1, 1, 0, 1, 0],\n",
        "        'Bread': [1, 0, 0, 1, 1],\n",
        "        'Eggs': [1, 0, 1, 0, 1],\n",
        "        'Butter': [0, 1, 0, 1, 1]}\n",
        "\n",
        "df = pd.DataFrame(data)\n",
        "\n",
        "# Mining frequent itemsets using Apriori algorithm\n",
        "frequent_itemsets = apriori(df, min_support=0.6, use_colnames=True)\n",
        "\n",
        "print(\"Frequent Itemsets:\\n\", frequent_itemsets)\n",
        "\n",
        "# Generating association rules\n",
        "rules = association_rules(frequent_itemsets, metric=\"lift\", min_threshold=1)\n",
        "print(\"\\nAssociation Rules:\\n\", rules[['antecedents', 'consequents', 'support', 'confidence', 'lift']])\n"
      ]
    },
    {
      "cell_type": "markdown",
      "source": [
        "**2. How to Apply the Confidence Difference Criterion Using R/Python**"
      ],
      "metadata": {
        "id": "-UK_tcEQ4HEh"
      }
    },
    {
      "cell_type": "code",
      "source": [
        "# Applying the Confidence Difference Criterion for association rules\n",
        "\n",
        "from mlxtend.frequent_patterns import association_rules\n",
        "\n",
        "# Reusing the frequent_itemsets generated in the previous example\n",
        "rules = association_rules(frequent_itemsets, metric=\"confidence\", min_threshold=0.6)\n",
        "\n",
        "# Applying the confidence difference criterion: confidence > 0.6\n",
        "confidence_difference_rules = rules[rules['confidence'] > 0.6]\n",
        "\n",
        "print(\"Association Rules with Confidence Difference Criterion:\\n\", confidence_difference_rules[['antecedents', 'consequents', 'support', 'confidence']])\n"
      ],
      "metadata": {
        "colab": {
          "base_uri": "https://localhost:8080/"
        },
        "id": "4FOeCk5v4Tf5",
        "outputId": "0f4ef4b5-446f-4dd5-f093-0122b3f9f3cd"
      },
      "execution_count": 2,
      "outputs": [
        {
          "output_type": "stream",
          "name": "stdout",
          "text": [
            "Association Rules with Confidence Difference Criterion:\n",
            " Empty DataFrame\n",
            "Columns: [antecedents, consequents, support, confidence]\n",
            "Index: []\n"
          ]
        },
        {
          "output_type": "stream",
          "name": "stderr",
          "text": [
            "/usr/local/lib/python3.10/dist-packages/ipykernel/ipkernel.py:283: DeprecationWarning: `should_run_async` will not call `transform_cell` automatically in the future. Please pass the result to `transformed_cell` argument and any exception that happen during thetransform in `preprocessing_exc_tuple` in IPython 7.17 and above.\n",
            "  and should_run_async(code)\n"
          ]
        }
      ]
    },
    {
      "cell_type": "markdown",
      "source": [
        "**3. How to Apply the Confidence Quotient Criterion Using R/Python**"
      ],
      "metadata": {
        "id": "iXhHDZcC4WJA"
      }
    },
    {
      "cell_type": "code",
      "source": [
        "# Applying the Confidence Quotient Criterion for association rules\n",
        "\n",
        "from mlxtend.frequent_patterns import association_rules\n",
        "\n",
        "# Reusing the frequent_itemsets generated earlier\n",
        "rules = association_rules(frequent_itemsets, metric=\"confidence\", min_threshold=0.6)\n",
        "\n",
        "# Calculating the confidence quotient (Confidence / (1 - Confidence))\n",
        "rules['confidence_quotient'] = rules['confidence'] / (1 - rules['confidence'])\n",
        "\n",
        "# Display rules with a confidence quotient greater than a certain threshold\n",
        "high_conf_quotient_rules = rules[rules['confidence_quotient'] > 1.5]\n",
        "\n",
        "print(\"Association Rules with Confidence Quotient Criterion:\\n\", high_conf_quotient_rules[['antecedents', 'consequents', 'confidence', 'confidence_quotient']])\n"
      ],
      "metadata": {
        "colab": {
          "base_uri": "https://localhost:8080/"
        },
        "id": "p5e4Az-r4cYP",
        "outputId": "f5571100-ad96-4f7c-9832-2f0d062d4a59"
      },
      "execution_count": 3,
      "outputs": [
        {
          "output_type": "stream",
          "name": "stdout",
          "text": [
            "Association Rules with Confidence Quotient Criterion:\n",
            " Empty DataFrame\n",
            "Columns: [antecedents, consequents, confidence, confidence_quotient]\n",
            "Index: []\n"
          ]
        },
        {
          "output_type": "stream",
          "name": "stderr",
          "text": [
            "/usr/local/lib/python3.10/dist-packages/ipykernel/ipkernel.py:283: DeprecationWarning: `should_run_async` will not call `transform_cell` automatically in the future. Please pass the result to `transformed_cell` argument and any exception that happen during thetransform in `preprocessing_exc_tuple` in IPython 7.17 and above.\n",
            "  and should_run_async(code)\n"
          ]
        }
      ]
    }
  ]
}
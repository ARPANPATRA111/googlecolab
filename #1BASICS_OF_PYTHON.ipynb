{
  "cells": [
    {
      "cell_type": "markdown",
      "metadata": {
        "id": "view-in-github",
        "colab_type": "text"
      },
      "source": [
        "<a href=\"https://colab.research.google.com/github/ARPANPATRA111/googlecolab/blob/main/%231BASICS_OF_PYTHON.ipynb\" target=\"_parent\"><img src=\"https://colab.research.google.com/assets/colab-badge.svg\" alt=\"Open In Colab\"/></a>"
      ]
    },
    {
      "cell_type": "markdown",
      "metadata": {
        "id": "AIKfPj8LZHvA"
      },
      "source": [
        "# 1: Basics of Coding R/Python"
      ]
    },
    {
      "cell_type": "markdown",
      "metadata": {
        "id": "7Xse3vjqaKoP"
      },
      "source": [
        "**1. Using Comments R/Python**"
      ]
    },
    {
      "cell_type": "code",
      "execution_count": null,
      "metadata": {
        "colab": {
          "base_uri": "https://localhost:8080/"
        },
        "id": "1_1jb8lvEY7y",
        "outputId": "f80d17fb-824f-4966-e734-d10f4e57b320"
      },
      "outputs": [
        {
          "output_type": "stream",
          "name": "stdout",
          "text": [
            "Hello, World!\n"
          ]
        }
      ],
      "source": [
        "print(\"Hello, World!\")  # You can also put comments at the end of a line"
      ]
    },
    {
      "cell_type": "markdown",
      "metadata": {
        "id": "D_JkcZiya7g3"
      },
      "source": [
        "**2. Executing Commands R/Python**"
      ]
    },
    {
      "cell_type": "code",
      "execution_count": null,
      "metadata": {
        "colab": {
          "base_uri": "https://localhost:8080/"
        },
        "id": "e0geDdjvbIGl",
        "outputId": "b69b7b4c-7643-4111-ff92-60b322f21743"
      },
      "outputs": [
        {
          "output_type": "stream",
          "name": "stdout",
          "text": [
            "Hello, World!\n",
            "Result of 2 + 2 is: 4\n"
          ]
        }
      ],
      "source": [
        "# Basic Python commands\n",
        "print(\"Hello, World!\")\n",
        "result = 2 + 2\n",
        "print(\"Result of 2 + 2 is:\", result)"
      ]
    },
    {
      "cell_type": "markdown",
      "metadata": {
        "id": "K50vwogNc-o5"
      },
      "source": [
        "**3. Importing Packages R/Python**"
      ]
    },
    {
      "cell_type": "code",
      "execution_count": null,
      "metadata": {
        "id": "QtWMmjiwbVlD"
      },
      "outputs": [],
      "source": [
        "import numpy as np\n",
        "import pandas as pd"
      ]
    },
    {
      "cell_type": "markdown",
      "metadata": {
        "id": "f81b42TfeKhw"
      },
      "source": [
        "**4. Getting Data into Python**"
      ]
    },
    {
      "cell_type": "code",
      "execution_count": null,
      "metadata": {
        "colab": {
          "base_uri": "https://localhost:8080/"
        },
        "id": "N61DHMhibW9o",
        "outputId": "66421a41-fe3e-4d88-c29c-ef63becfc886"
      },
      "outputs": [
        {
          "output_type": "stream",
          "name": "stdout",
          "text": [
            "  Manufacturer                         Model  Form factor Smartphone?  Year  \\\n",
            "0        Nokia                          1100          Bar          No  2003   \n",
            "1        Nokia                          1110          Bar          No  2005   \n",
            "2        Apple    iPhone 6 and iPhone 6 Plus  Touchscreen         Yes  2014   \n",
            "3        Nokia                   105 series,          Bar          No  2013   \n",
            "4        Apple  iPhone 6S and iPhone 6S Plus  Touchscreen         Yes  2015   \n",
            "\n",
            "  Graph (million units)  Graph (million units).1  \n",
            "0          250[4][1][5]                      NaN  \n",
            "1        247.5[4][1][6]                      NaN  \n",
            "2              222.4[7]                      NaN  \n",
            "3                200[8]                      NaN  \n",
            "4  174.1[9][10][11][12]                      NaN  \n"
          ]
        }
      ],
      "source": [
        "# Load data from a CSV file\n",
        "import pandas as pd\n",
        "data = pd.read_csv('top_selling_mobile_phones.csv') # read.csv() method\n",
        "print(data.head())"
      ]
    },
    {
      "cell_type": "markdown",
      "metadata": {
        "id": "PN4qtsLqeka9"
      },
      "source": [
        "**5. Saving Output R/Python**"
      ]
    },
    {
      "cell_type": "code",
      "execution_count": null,
      "metadata": {
        "id": "ZOuL3-Rzenf_"
      },
      "outputs": [],
      "source": [
        "# Save a DataFrame to a CSV file\n",
        "data.to_csv('output.csv', index=True)"
      ]
    }
  ],
  "metadata": {
    "colab": {
      "provenance": [],
      "include_colab_link": true
    },
    "kernelspec": {
      "display_name": "Python 3",
      "name": "python3"
    },
    "language_info": {
      "name": "python"
    }
  },
  "nbformat": 4,
  "nbformat_minor": 0
}
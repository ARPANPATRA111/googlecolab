{
  "cells": [
    {
      "cell_type": "markdown",
      "metadata": {
        "id": "view-in-github",
        "colab_type": "text"
      },
      "source": [
        "<a href=\"https://colab.research.google.com/github/ARPANPATRA111/googlecolab/blob/main/%231BASICS_OF_PYTHON.ipynb\" target=\"_parent\"><img src=\"https://colab.research.google.com/assets/colab-badge.svg\" alt=\"Open In Colab\"/></a>"
      ]
    },
    {
      "cell_type": "markdown",
      "metadata": {
        "id": "AIKfPj8LZHvA"
      },
      "source": [
        "# 1: Basics of Coding R/Python"
      ]
    },
    {
      "cell_type": "markdown",
      "metadata": {
        "id": "7Xse3vjqaKoP"
      },
      "source": [
        "**1. Using Comments R/Python**"
      ]
    },
    {
      "cell_type": "code",
      "execution_count": null,
      "metadata": {
        "colab": {
          "base_uri": "https://localhost:8080/",
          "height": 36
        },
        "id": "1_1jb8lvEY7y",
        "outputId": "c137af8e-93d1-42f6-a799-ba49c0b79504"
      },
      "outputs": [
        {
          "data": {
            "application/vnd.google.colaboratory.intrinsic+json": {
              "type": "string"
            },
            "text/plain": [
              "'\\nThis is a multi-line comment or a docstring\\nto explain complex logic or documentation.\\n'"
            ]
          },
          "execution_count": 12,
          "metadata": {},
          "output_type": "execute_result"
        }
      ],
      "source": [
        "# This is a single-line comment in Python\n",
        "\"\"\"\n",
        "This is a multi-line comment or a docstring\n",
        "to explain complex logic or documentation.\n",
        "\"\"\""
      ]
    },
    {
      "cell_type": "markdown",
      "metadata": {
        "id": "D_JkcZiya7g3"
      },
      "source": [
        "**2. Executing Commands R/Python**"
      ]
    },
    {
      "cell_type": "code",
      "execution_count": null,
      "metadata": {
        "colab": {
          "base_uri": "https://localhost:8080/"
        },
        "id": "e0geDdjvbIGl",
        "outputId": "d7e428c9-eb54-4371-c059-4fe3555e735a"
      },
      "outputs": [
        {
          "name": "stdout",
          "output_type": "stream",
          "text": [
            "Hello, World!\n",
            "Result of 2 + 2 is: 4\n"
          ]
        }
      ],
      "source": [
        "# Basic Python commands\n",
        "print(\"Hello, World!\")\n",
        "result = 2 + 2\n",
        "print(\"Result of 2 + 2 is:\", result)"
      ]
    },
    {
      "cell_type": "markdown",
      "metadata": {
        "id": "K50vwogNc-o5"
      },
      "source": [
        "**3. Importing Packages R/Python**"
      ]
    },
    {
      "cell_type": "code",
      "execution_count": null,
      "metadata": {
        "id": "QtWMmjiwbVlD"
      },
      "outputs": [],
      "source": [
        "import numpy as np\n",
        "import pandas as pd"
      ]
    },
    {
      "cell_type": "markdown",
      "metadata": {
        "id": "f81b42TfeKhw"
      },
      "source": [
        "**4. Getting Data into Python**"
      ]
    },
    {
      "cell_type": "code",
      "execution_count": null,
      "metadata": {
        "colab": {
          "base_uri": "https://localhost:8080/"
        },
        "id": "N61DHMhibW9o",
        "outputId": "5c35d233-b36f-409c-efe4-0fa2f9ef5609"
      },
      "outputs": [
        {
          "name": "stdout",
          "output_type": "stream",
          "text": [
            "  Manufacturer                         Model  Form factor Smartphone?  Year  \\\n",
            "0        Nokia                          1100          Bar          No  2003   \n",
            "1        Nokia                          1110          Bar          No  2005   \n",
            "2        Apple    iPhone 6 and iPhone 6 Plus  Touchscreen         Yes  2014   \n",
            "3        Nokia                   105 series,          Bar          No  2013   \n",
            "4        Apple  iPhone 6S and iPhone 6S Plus  Touchscreen         Yes  2015   \n",
            "\n",
            "  Graph (million units)  Graph (million units).1  \n",
            "0          250[4][1][5]                      NaN  \n",
            "1        247.5[4][1][6]                      NaN  \n",
            "2              222.4[7]                      NaN  \n",
            "3                200[8]                      NaN  \n",
            "4  174.1[9][10][11][12]                      NaN  \n"
          ]
        }
      ],
      "source": [
        "# Load data from a CSV file\n",
        "import pandas as pd\n",
        "data = pd.read_csv('top_selling_mobile_phones.csv')\n",
        "print(data.head())"
      ]
    },
    {
      "cell_type": "markdown",
      "metadata": {
        "id": "PN4qtsLqeka9"
      },
      "source": [
        "**5. Saving Output R/Python**"
      ]
    },
    {
      "cell_type": "code",
      "execution_count": null,
      "metadata": {
        "id": "ZOuL3-Rzenf_"
      },
      "outputs": [],
      "source": [
        "# Save a DataFrame to a CSV file\n",
        "data.to_csv('output.csv', index=True)"
      ]
    }
  ],
  "metadata": {
    "colab": {
      "provenance": [],
      "toc_visible": true,
      "include_colab_link": true
    },
    "kernelspec": {
      "display_name": "Python 3",
      "name": "python3"
    },
    "language_info": {
      "name": "python"
    }
  },
  "nbformat": 4,
  "nbformat_minor": 0
}
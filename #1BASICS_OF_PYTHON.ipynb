{
  "cells": [
    {
      "cell_type": "markdown",
      "metadata": {
        "id": "view-in-github",
        "colab_type": "text"
      },
      "source": [
        "<a href=\"https://colab.research.google.com/github/ARPANPATRA111/googlecolab/blob/main/%231BASICS_OF_PYTHON.ipynb\" target=\"_parent\"><img src=\"https://colab.research.google.com/assets/colab-badge.svg\" alt=\"Open In Colab\"/></a>"
      ]
    },
    {
      "cell_type": "markdown",
      "metadata": {
        "id": "AIKfPj8LZHvA"
      },
      "source": [
        "# 1: Basics of Coding R/Python"
      ]
    },
    {
      "cell_type": "markdown",
      "metadata": {
        "id": "7Xse3vjqaKoP"
      },
      "source": [
        "**1. Using Comments R/Python**"
      ]
    },
    {
      "cell_type": "code",
      "execution_count": null,
      "metadata": {
        "colab": {
          "base_uri": "https://localhost:8080/",
          "height": 36
        },
        "id": "1_1jb8lvEY7y",
        "outputId": "c137af8e-93d1-42f6-a799-ba49c0b79504"
      },
      "outputs": [
        {
          "data": {
            "application/vnd.google.colaboratory.intrinsic+json": {
              "type": "string"
            },
            "text/plain": [
              "'\\nThis is a multi-line comment or a docstring\\nto explain complex logic or documentation.\\n'"
            ]
          },
          "execution_count": 12,
          "metadata": {},
          "output_type": "execute_result"
        }
      ],
      "source": [
        "# This is a single-line comment in Python\n",
        "\"\"\"\n",
        "This is a multi-line comment or a docstring\n",
        "to explain complex logic or documentation.\n",
        "\"\"\""
      ]
    },
    {
      "cell_type": "markdown",
      "metadata": {
        "id": "D_JkcZiya7g3"
      },
      "source": [
        "**2. Executing Commands R/Python**"
      ]
    },
    {
      "cell_type": "code",
      "execution_count": null,
      "metadata": {
        "colab": {
          "base_uri": "https://localhost:8080/"
        },
        "id": "e0geDdjvbIGl",
        "outputId": "d7e428c9-eb54-4371-c059-4fe3555e735a"
      },
      "outputs": [
        {
          "name": "stdout",
          "output_type": "stream",
          "text": [
            "Hello, World!\n",
            "Result of 2 + 2 is: 4\n"
          ]
        }
      ],
      "source": [
        "# Basic Python commands\n",
        "print(\"Hello, World!\")\n",
        "result = 2 + 2\n",
        "print(\"Result of 2 + 2 is:\", result)"
      ]
    },
    {
      "cell_type": "markdown",
      "metadata": {
        "id": "K50vwogNc-o5"
      },
      "source": [
        "**3. Importing Packages R/Python**"
      ]
    },
    {
      "cell_type": "code",
      "execution_count": null,
      "metadata": {
        "id": "QtWMmjiwbVlD"
      },
      "outputs": [],
      "source": [
        "import numpy as np\n",
        "import pandas as pd"
      ]
    },
    {
      "cell_type": "markdown",
      "metadata": {
        "id": "f81b42TfeKhw"
      },
      "source": [
        "**4. Getting Data into Python**"
      ]
    },
    {
      "cell_type": "code",
      "execution_count": null,
      "metadata": {
        "colab": {
          "base_uri": "https://localhost:8080/"
        },
        "id": "N61DHMhibW9o",
        "outputId": "5c35d233-b36f-409c-efe4-0fa2f9ef5609"
      },
      "outputs": [
        {
          "name": "stdout",
          "output_type": "stream",
          "text": [
            "  Manufacturer                         Model  Form factor Smartphone?  Year  \\\n",
            "0        Nokia                          1100          Bar          No  2003   \n",
            "1        Nokia                          1110          Bar          No  2005   \n",
            "2        Apple    iPhone 6 and iPhone 6 Plus  Touchscreen         Yes  2014   \n",
            "3        Nokia                   105 series,          Bar          No  2013   \n",
            "4        Apple  iPhone 6S and iPhone 6S Plus  Touchscreen         Yes  2015   \n",
            "\n",
            "  Graph (million units)  Graph (million units).1  \n",
            "0          250[4][1][5]                      NaN  \n",
            "1        247.5[4][1][6]                      NaN  \n",
            "2              222.4[7]                      NaN  \n",
            "3                200[8]                      NaN  \n",
            "4  174.1[9][10][11][12]                      NaN  \n"
          ]
        }
      ],
      "source": [
        "# Load data from a CSV file\n",
        "import pandas as pd\n",
        "data = pd.read_csv('top_selling_mobile_phones.csv')\n",
        "print(data.head())"
      ]
    },
    {
      "cell_type": "markdown",
      "metadata": {
        "id": "PN4qtsLqeka9"
      },
      "source": [
        "**5. Saving Output R/Python**"
      ]
    },
    {
      "cell_type": "code",
      "execution_count": null,
      "metadata": {
        "id": "ZOuL3-Rzenf_"
      },
      "outputs": [],
      "source": [
        "# Save a DataFrame to a CSV file\n",
        "data.to_csv('output.csv', index=True)"
      ]
    },
    {
      "cell_type": "markdown",
      "metadata": {
        "id": "s_RrwyjOfLSc"
      },
      "source": [
        " # 2: DATA PREPARATION"
      ]
    },
    {
      "cell_type": "markdown",
      "metadata": {
        "id": "LZ2TAvi4fUej"
      },
      "source": [
        "**1. How to Add an Index Field Using R/Python**"
      ]
    },
    {
      "cell_type": "code",
      "execution_count": null,
      "metadata": {
        "colab": {
          "base_uri": "https://localhost:8080/"
        },
        "id": "MUAUJE7ffdEE",
        "outputId": "858066d7-2324-4315-f783-22e2d9f4b117"
      },
      "outputs": [
        {
          "name": "stdout",
          "output_type": "stream",
          "text": [
            "DataFrame with Index column:\n",
            "    Name  Age  Index\n",
            "0  John   28      0\n",
            "1  Jane   34      1\n",
            "2   Bob   29      2\n"
          ]
        }
      ],
      "source": [
        "# Adding an index field to a DataFrame\n",
        "\n",
        "import pandas as pd\n",
        "\n",
        "# Sample data without an index\n",
        "data = {'Name': ['John', 'Jane', 'Bob'],\n",
        "        'Age': [28, 34, 29]}\n",
        "\n",
        "df = pd.DataFrame(data)\n",
        "\n",
        "# Add a new index field\n",
        "df['Index'] = df.index\n",
        "\n",
        "print(\"DataFrame with Index column:\\n\", df)\n"
      ]
    },
    {
      "cell_type": "markdown",
      "metadata": {
        "id": "9Dees_Hffiwr"
      },
      "source": [
        "**2. Howto Change Misleading Field Values Using R/Python**"
      ]
    },
    {
      "cell_type": "code",
      "execution_count": null,
      "metadata": {
        "colab": {
          "base_uri": "https://localhost:8080/"
        },
        "id": "XBymue5pfiDf",
        "outputId": "e5ad3a32-6f0f-4de0-e696-111f1f1852ee"
      },
      "outputs": [
        {
          "name": "stdout",
          "output_type": "stream",
          "text": [
            "Updated DataFrame with full gender labels:\n",
            "    Name  Age  Gender\n",
            "0  John   28    Male\n",
            "1  Jane   34  Female\n",
            "2   Bob   29    Male\n"
          ]
        }
      ],
      "source": [
        "# Changing misleading field values in a DataFrame\n",
        "\n",
        "import pandas as pd\n",
        "\n",
        "# Sample data\n",
        "data = {'Name': ['John', 'Jane', 'Bob'],\n",
        "        'Age': [28, 34, 29],\n",
        "        'Gender': ['M', 'F', 'M']}\n",
        "\n",
        "df = pd.DataFrame(data)\n",
        "\n",
        "# Change 'M' and 'F' to 'Male' and 'Female'\n",
        "df['Gender'] = df['Gender'].replace({'M': 'Male', 'F': 'Female'})\n",
        "\n",
        "print(\"Updated DataFrame with full gender labels:\\n\", df)\n"
      ]
    },
    {
      "cell_type": "markdown",
      "metadata": {
        "id": "NpAeGAnjf4_O"
      },
      "source": [
        "**3. Howto Re Express Categorical Field Values Using R/Python**"
      ]
    },
    {
      "cell_type": "code",
      "execution_count": null,
      "metadata": {
        "id": "dEJ7mfsHmqhZ"
      },
      "outputs": [],
      "source": [
        "# Re-express categorical field values to numerical values\n",
        "\n",
        "import pandas as pd\n",
        "\n",
        "# Sample data\n",
        "data = {'Name': ['John', 'Jane', 'Bob'],\n",
        "        'Gender': ['Male', 'Female', 'Male']}\n",
        "\n",
        "df = pd.DataFrame(data)\n",
        "\n",
        "# Convert categorical 'Gender' to numeric (0 for Male, 1 for Female)\n",
        "df['Gender_Num'] = df['Gender'].map({'Male': 0, 'Female': 1})\n",
        "\n",
        "print(\"DataFrame with numerical gender values:\\n\", df)\n",
        "# Re-express categorical field values to numerical values\n",
        "\n",
        "import pandas as pd\n",
        "\n",
        "# Sample data\n",
        "data = {'Name': ['John', 'Jane', 'Bob'],\n",
        "        'Gender': ['Male', 'Female', 'Male']}\n",
        "\n",
        "df = pd.DataFrame(data)\n",
        "\n",
        "# Convert categorical 'Gender' to numeric (0 for Male, 1 for Female)\n",
        "df['Gender_Num'] = df['Gender'].map({'Male': 0, 'Female': 1})\n",
        "\n",
        "print(\"DataFrame with numerical gender values:\\n\", df)\n",
        "# Re-express categorical field values to numerical values\n",
        "\n",
        "import pandas as pd\n",
        "\n",
        "# Sample data\n",
        "data = {'Name': ['John', 'Jane', 'Bob'],\n",
        "        'Gender': ['Male', 'Female', 'Male']}\n",
        "\n",
        "df = pd.DataFrame(data)\n",
        "\n",
        "# Convert categorical 'Gender' to numeric (0 for Male, 1 for Female)\n",
        "df['Gender_Num'] = df['Gender'].map({'Male': 0, 'Female': 1})\n",
        "\n",
        "print(\"DataFrame with numerical gender values:\\n\", df)\n",
        "# Re-express categorical field values to numerical values\n",
        "\n",
        "import pandas as pd\n",
        "\n",
        "# Sample data\n",
        "data = {'Name': ['John', 'Jane', 'Bob'],\n",
        "        'Gender': ['Male', 'Female', 'Male']}\n",
        "\n",
        "df = pd.DataFrame(data)\n",
        "\n",
        "# Convert categorical 'Gender' to numeric (0 for Male, 1 for Female)\n",
        "df['Gender_Num'] = df['Gender'].map({'Male': 0, 'Female': 1})\n",
        "\n",
        "print(\"DataFrame with numerical gender values:\\n\", df)\n",
        "# Re-express categorical field values to numerical values\n",
        "\n",
        "import pandas as pd\n",
        "\n",
        "# Sample data\n",
        "data = {'Name': ['John', 'Jane', 'Bob'],\n",
        "        'Gender': ['Male', 'Female', 'Male']}\n",
        "\n",
        "df = pd.DataFrame(data)\n",
        "\n",
        "# Convert categorical 'Gender' to numeric (0 for Male, 1 for Female)\n",
        "df['Gender_Num'] = df['Gender'].map({'Male': 0, 'Female': 1})\n",
        "\n",
        "print(\"DataFrame with numerical gender values:\\n\", df)\n"
      ]
    }
  ],
  "metadata": {
    "colab": {
      "provenance": [],
      "toc_visible": true,
      "include_colab_link": true
    },
    "kernelspec": {
      "display_name": "Python 3",
      "name": "python3"
    },
    "language_info": {
      "name": "python"
    }
  },
  "nbformat": 4,
  "nbformat_minor": 0
}
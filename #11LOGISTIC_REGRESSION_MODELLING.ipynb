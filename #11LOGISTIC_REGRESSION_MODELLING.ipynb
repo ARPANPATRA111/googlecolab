{
  "nbformat": 4,
  "nbformat_minor": 0,
  "metadata": {
    "colab": {
      "provenance": [],
      "authorship_tag": "ABX9TyNCF57i/RsZz3hcX6LysFGR",
      "include_colab_link": true
    },
    "kernelspec": {
      "name": "python3",
      "display_name": "Python 3"
    },
    "language_info": {
      "name": "python"
    }
  },
  "cells": [
    {
      "cell_type": "markdown",
      "metadata": {
        "id": "view-in-github",
        "colab_type": "text"
      },
      "source": [
        "<a href=\"https://colab.research.google.com/github/ARPANPATRA111/googlecolab/blob/main/%2311LOGISTIC_REGRESSION_MODELLING.ipynb\" target=\"_parent\"><img src=\"https://colab.research.google.com/assets/colab-badge.svg\" alt=\"Open In Colab\"/></a>"
      ]
    },
    {
      "cell_type": "markdown",
      "source": [
        "#11: LOGISTIC REGRESSIONMODELLING"
      ],
      "metadata": {
        "id": "XzyQuoWt3aef"
      }
    },
    {
      "cell_type": "markdown",
      "source": [
        "**1. How to Perform Logistic Regression Using R/Python**"
      ],
      "metadata": {
        "id": "BwNO4eGR3dX3"
      }
    },
    {
      "cell_type": "code",
      "execution_count": 1,
      "metadata": {
        "colab": {
          "base_uri": "https://localhost:8080/"
        },
        "id": "HifUxfK23W-4",
        "outputId": "20f95619-837b-4fc9-a140-197ec234ee91"
      },
      "outputs": [
        {
          "output_type": "stream",
          "name": "stdout",
          "text": [
            "Accuracy Score: 1.0\n",
            "\n",
            "Confusion Matrix:\n",
            " [[2 0]\n",
            " [0 1]]\n",
            "\n",
            "Classification Report:\n",
            "               precision    recall  f1-score   support\n",
            "\n",
            "           0       1.00      1.00      1.00         2\n",
            "           1       1.00      1.00      1.00         1\n",
            "\n",
            "    accuracy                           1.00         3\n",
            "   macro avg       1.00      1.00      1.00         3\n",
            "weighted avg       1.00      1.00      1.00         3\n",
            "\n"
          ]
        }
      ],
      "source": [
        "# Performing Logistic Regression using scikit-learn\n",
        "\n",
        "import pandas as pd\n",
        "from sklearn.model_selection import train_test_split\n",
        "from sklearn.linear_model import LogisticRegression\n",
        "from sklearn.metrics import accuracy_score, confusion_matrix, classification_report\n",
        "\n",
        "# Sample binary classification data\n",
        "data = {'Age': [22, 25, 47, 52, 46, 56, 34, 22],\n",
        "        'Income': [25000, 32000, 50000, 55000, 62000, 72000, 38000, 29000],\n",
        "        'Bought': [0, 0, 1, 1, 1, 1, 0, 0]}\n",
        "\n",
        "df = pd.DataFrame(data)\n",
        "\n",
        "# Features and target\n",
        "X = df[['Age', 'Income']]\n",
        "y = df['Bought']\n",
        "\n",
        "# Split data into training and test sets\n",
        "X_train, X_test, y_train, y_test = train_test_split(X, y, test_size=0.3, random_state=42)\n",
        "\n",
        "# Build logistic regression model\n",
        "log_reg = LogisticRegression()\n",
        "log_reg.fit(X_train, y_train)\n",
        "\n",
        "# Predict and evaluate\n",
        "y_pred = log_reg.predict(X_test)\n",
        "\n",
        "print(\"Accuracy Score:\", accuracy_score(y_test, y_pred))\n",
        "print(\"\\nConfusion Matrix:\\n\", confusion_matrix(y_test, y_pred))\n",
        "print(\"\\nClassification Report:\\n\", classification_report(y_test, y_pred))\n"
      ]
    },
    {
      "cell_type": "markdown",
      "source": [
        "**2. Howto Perform Poisson Regression Using R/Python**"
      ],
      "metadata": {
        "id": "X0IbmkMO3oR-"
      }
    },
    {
      "cell_type": "code",
      "source": [
        "# Performing Poisson regression using statsmodels\n",
        "\n",
        "import statsmodels.api as sm\n",
        "import numpy as np\n",
        "import pandas as pd\n",
        "\n",
        "# Sample data\n",
        "data = {'Hours_Studied': [3, 4, 5, 6, 7, 8, 9, 10],\n",
        "        'Grades': [1, 2, 2, 3, 3, 4, 4, 5]}\n",
        "\n",
        "df = pd.DataFrame(data)\n",
        "\n",
        "# Features and target\n",
        "X = df[['Hours_Studied']]\n",
        "y = df['Grades']\n",
        "\n",
        "# Add a constant to features\n",
        "X = sm.add_constant(X)\n",
        "\n",
        "# Build the Poisson regression model\n",
        "poisson_model = sm.GLM(y, X, family=sm.families.Poisson()).fit()\n",
        "\n",
        "# Print the summary\n",
        "print(poisson_model.summary())\n"
      ],
      "metadata": {
        "colab": {
          "base_uri": "https://localhost:8080/"
        },
        "id": "gFveQggA3q_a",
        "outputId": "7d296adc-f323-4837-ae64-4e57c9ec55dd"
      },
      "execution_count": 2,
      "outputs": [
        {
          "output_type": "stream",
          "name": "stdout",
          "text": [
            "                 Generalized Linear Model Regression Results                  \n",
            "==============================================================================\n",
            "Dep. Variable:                 Grades   No. Observations:                    8\n",
            "Model:                            GLM   Df Residuals:                        6\n",
            "Model Family:                 Poisson   Df Model:                            1\n",
            "Link Function:                    Log   Scale:                          1.0000\n",
            "Method:                          IRLS   Log-Likelihood:                -11.793\n",
            "Date:                Thu, 07 Nov 2024   Deviance:                      0.36319\n",
            "Time:                        13:44:45   Pearson chi2:                    0.352\n",
            "No. Iterations:                     4   Pseudo R-squ. (CS):             0.3864\n",
            "Covariance Type:            nonrobust                                         \n",
            "=================================================================================\n",
            "                    coef    std err          z      P>|z|      [0.025      0.975]\n",
            "---------------------------------------------------------------------------------\n",
            "const            -0.1601      0.725     -0.221      0.825      -1.581       1.261\n",
            "Hours_Studied     0.1807      0.094      1.926      0.054      -0.003       0.365\n",
            "=================================================================================\n"
          ]
        }
      ]
    }
  ]
}
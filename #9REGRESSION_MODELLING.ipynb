{
  "nbformat": 4,
  "nbformat_minor": 0,
  "metadata": {
    "colab": {
      "provenance": [],
      "authorship_tag": "ABX9TyMhpRRASluoN0n3wxeifjzW",
      "include_colab_link": true
    },
    "kernelspec": {
      "name": "python3",
      "display_name": "Python 3"
    },
    "language_info": {
      "name": "python"
    }
  },
  "cells": [
    {
      "cell_type": "markdown",
      "metadata": {
        "id": "view-in-github",
        "colab_type": "text"
      },
      "source": [
        "<a href=\"https://colab.research.google.com/github/ARPANPATRA111/googlecolab/blob/main/%239REGRESSION_MODELLING.ipynb\" target=\"_parent\"><img src=\"https://colab.research.google.com/assets/colab-badge.svg\" alt=\"Open In Colab\"/></a>"
      ]
    },
    {
      "cell_type": "markdown",
      "source": [
        "#9:  REGRESSION MODELLING"
      ],
      "metadata": {
        "id": "dhiciCkMy2r7"
      }
    },
    {
      "cell_type": "markdown",
      "source": [
        "**1. Demonstrate Estimation Model Evaluation Using R/Python**"
      ],
      "metadata": {
        "id": "Zst-CTO9y4x-"
      }
    },
    {
      "cell_type": "code",
      "execution_count": 1,
      "metadata": {
        "colab": {
          "base_uri": "https://localhost:8080/"
        },
        "id": "wv8sXIvPyiFu",
        "outputId": "1c7c59ad-45fc-4b87-c32f-35e42baa1b09"
      },
      "outputs": [
        {
          "output_type": "stream",
          "name": "stdout",
          "text": [
            "Mean Squared Error (MSE): 0.6536995137170021\n",
            "R-squared (R2): 0.8072059636181392\n"
          ]
        }
      ],
      "source": [
        "# Demonstrating estimation model evaluation using Linear Regression\n",
        "\n",
        "import numpy as np\n",
        "import pandas as pd\n",
        "from sklearn.model_selection import train_test_split\n",
        "from sklearn.linear_model import LinearRegression\n",
        "from sklearn.metrics import mean_squared_error, r2_score\n",
        "\n",
        "# Generate synthetic data\n",
        "np.random.seed(42)\n",
        "X = 2 * np.random.rand(100, 1)\n",
        "y = 4 + 3 * X + np.random.randn(100, 1)\n",
        "\n",
        "# Split data into training and testing sets\n",
        "X_train, X_test, y_train, y_test = train_test_split(X, y, test_size=0.2, random_state=42)\n",
        "\n",
        "# Build the Linear Regression model\n",
        "lin_reg = LinearRegression()\n",
        "lin_reg.fit(X_train, y_train)\n",
        "\n",
        "# Make predictions\n",
        "y_pred = lin_reg.predict(X_test)\n",
        "\n",
        "# Model evaluation metrics\n",
        "mse = mean_squared_error(y_test, y_pred)\n",
        "r2 = r2_score(y_test, y_pred)\n",
        "\n",
        "print(f\"Mean Squared Error (MSE): {mse}\")\n",
        "print(f\"R-squared (R2): {r2}\")\n"
      ]
    },
    {
      "cell_type": "markdown",
      "source": [
        "**2. Demonstrate Stepwise Regression Using R/Python**"
      ],
      "metadata": {
        "id": "AOH0Y5Y0y-rj"
      }
    },
    {
      "cell_type": "code",
      "source": [
        "import pandas as pd\n",
        "import numpy as np\n",
        "import statsmodels.api as sm\n",
        "from sklearn.datasets import fetch_openml\n",
        "from sklearn.model_selection import train_test_split\n",
        "\n",
        "# Load an alternative dataset since Boston is deprecated\n",
        "boston = fetch_openml(name=\"boston\", version=1, as_frame=True)\n",
        "X = boston.data.astype(float)  # Ensure all data is cast to float\n",
        "y = boston.target.astype(float)  # Ensure the target is cast to float\n",
        "\n",
        "# Add a constant to the features (for intercept)\n",
        "X = sm.add_constant(X)\n",
        "\n",
        "# Split the dataset\n",
        "X_train, X_test, y_train, y_test = train_test_split(X, y, test_size=0.2, random_state=42)\n",
        "\n",
        "# Build an initial model with all features\n",
        "model = sm.OLS(y_train, X_train).fit()\n",
        "\n",
        "# Perform stepwise regression (backward elimination)\n",
        "while True:\n",
        "    p_values = model.pvalues\n",
        "    max_p_value = p_values.max()  # Get the maximum p-value\n",
        "    if max_p_value > 0.05:  # Remove features with p-value > 0.05\n",
        "        max_p_feature = p_values.idxmax()\n",
        "        if max_p_feature == 'const':  # Ensure the constant is not removed\n",
        "            break\n",
        "        X_train = X_train.drop(columns=[max_p_feature])\n",
        "        model = sm.OLS(y_train, X_train).fit()\n",
        "    else:\n",
        "        break\n",
        "\n",
        "# Final model summary\n",
        "print(model.summary())\n"
      ],
      "metadata": {
        "colab": {
          "base_uri": "https://localhost:8080/"
        },
        "id": "ICKpcDpBzDTb",
        "outputId": "66ff98a4-d4ad-42d6-9f3e-eff9b973bc2e"
      },
      "execution_count": 5,
      "outputs": [
        {
          "output_type": "stream",
          "name": "stdout",
          "text": [
            "                            OLS Regression Results                            \n",
            "==============================================================================\n",
            "Dep. Variable:                   MEDV   R-squared:                       0.748\n",
            "Model:                            OLS   Adj. R-squared:                  0.742\n",
            "Method:                 Least Squares   F-statistic:                     116.8\n",
            "Date:                Thu, 07 Nov 2024   Prob (F-statistic):          3.85e-111\n",
            "Time:                        13:38:35   Log-Likelihood:                -1196.4\n",
            "No. Observations:                 404   AIC:                             2415.\n",
            "Df Residuals:                     393   BIC:                             2459.\n",
            "Df Model:                          10                                         \n",
            "Covariance Type:            nonrobust                                         \n",
            "==============================================================================\n",
            "                 coef    std err          t      P>|t|      [0.025      0.975]\n",
            "------------------------------------------------------------------------------\n",
            "const         30.9311      5.663      5.462      0.000      19.797      42.065\n",
            "CRIM          -0.1086      0.035     -3.130      0.002      -0.177      -0.040\n",
            "CHAS           2.8752      0.951      3.023      0.003       1.005       4.745\n",
            "NOX          -17.9539      3.910     -4.592      0.000     -25.641     -10.267\n",
            "RM             4.4637      0.447      9.976      0.000       3.584       5.343\n",
            "DIS           -1.2350      0.179     -6.886      0.000      -1.588      -0.882\n",
            "RAD            0.2381      0.073      3.252      0.001       0.094       0.382\n",
            "TAX           -0.0078      0.004     -2.062      0.040      -0.015      -0.000\n",
            "PTRATIO       -1.0122      0.133     -7.632      0.000      -1.273      -0.751\n",
            "B              0.0123      0.003      4.144      0.000       0.006       0.018\n",
            "LSTAT         -0.5102      0.053     -9.618      0.000      -0.615      -0.406\n",
            "==============================================================================\n",
            "Omnibus:                      131.956   Durbin-Watson:                   2.131\n",
            "Prob(Omnibus):                  0.000   Jarque-Bera (JB):              569.772\n",
            "Skew:                           1.370   Prob(JB):                    1.89e-124\n",
            "Kurtosis:                       8.133   Cond. No.                     1.45e+04\n",
            "==============================================================================\n",
            "\n",
            "Notes:\n",
            "[1] Standard Errors assume that the covariance matrix of the errors is correctly specified.\n",
            "[2] The condition number is large, 1.45e+04. This might indicate that there are\n",
            "strong multicollinearity or other numerical problems.\n"
          ]
        }
      ]
    }
  ]
}
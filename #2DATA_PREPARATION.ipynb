{
  "nbformat": 4,
  "nbformat_minor": 0,
  "metadata": {
    "colab": {
      "provenance": [],
      "toc_visible": true,
      "authorship_tag": "ABX9TyNFZBpPjEoK5e5yJMKImYZ0",
      "include_colab_link": true
    },
    "kernelspec": {
      "name": "python3",
      "display_name": "Python 3"
    },
    "language_info": {
      "name": "python"
    }
  },
  "cells": [
    {
      "cell_type": "markdown",
      "metadata": {
        "id": "view-in-github",
        "colab_type": "text"
      },
      "source": [
        "<a href=\"https://colab.research.google.com/github/ARPANPATRA111/googlecolab/blob/main/%232DATA_PREPARATION.ipynb\" target=\"_parent\"><img src=\"https://colab.research.google.com/assets/colab-badge.svg\" alt=\"Open In Colab\"/></a>"
      ]
    },
    {
      "cell_type": "markdown",
      "metadata": {
        "id": "s_RrwyjOfLSc"
      },
      "source": [
        " # 2: DATA PREPARATION"
      ]
    },
    {
      "cell_type": "markdown",
      "metadata": {
        "id": "LZ2TAvi4fUej"
      },
      "source": [
        "**1. How to Add an Index Field Using R/Python**"
      ]
    },
    {
      "cell_type": "code",
      "execution_count": null,
      "metadata": {
        "colab": {
          "base_uri": "https://localhost:8080/"
        },
        "id": "MUAUJE7ffdEE",
        "outputId": "858066d7-2324-4315-f783-22e2d9f4b117"
      },
      "outputs": [
        {
          "name": "stdout",
          "output_type": "stream",
          "text": [
            "DataFrame with Index column:\n",
            "    Name  Age  Index\n",
            "0  John   28      0\n",
            "1  Jane   34      1\n",
            "2   Bob   29      2\n"
          ]
        }
      ],
      "source": [
        "# Adding an index field to a DataFrame\n",
        "\n",
        "import pandas as pd\n",
        "\n",
        "# Sample data without an index\n",
        "data = {'Name': ['John', 'Jane', 'Bob'],\n",
        "        'Age': [28, 34, 29]}\n",
        "\n",
        "df = pd.DataFrame(data)\n",
        "\n",
        "# Add a new index field\n",
        "df['Index'] = df.index\n",
        "\n",
        "print(\"DataFrame with Index column:\\n\", df)\n"
      ]
    },
    {
      "cell_type": "markdown",
      "metadata": {
        "id": "9Dees_Hffiwr"
      },
      "source": [
        "**2. Howto Change Misleading Field Values Using R/Python**"
      ]
    },
    {
      "cell_type": "code",
      "execution_count": null,
      "metadata": {
        "colab": {
          "base_uri": "https://localhost:8080/"
        },
        "id": "XBymue5pfiDf",
        "outputId": "e5ad3a32-6f0f-4de0-e696-111f1f1852ee"
      },
      "outputs": [
        {
          "name": "stdout",
          "output_type": "stream",
          "text": [
            "Updated DataFrame with full gender labels:\n",
            "    Name  Age  Gender\n",
            "0  John   28    Male\n",
            "1  Jane   34  Female\n",
            "2   Bob   29    Male\n"
          ]
        }
      ],
      "source": [
        "# Changing misleading field values in a DataFrame\n",
        "\n",
        "import pandas as pd\n",
        "\n",
        "# Sample data\n",
        "data = {'Name': ['John', 'Jane', 'Bob'],\n",
        "        'Age': [28, 34, 29],\n",
        "        'Gender': ['M', 'F', 'M']}\n",
        "\n",
        "df = pd.DataFrame(data)\n",
        "\n",
        "# Change 'M' and 'F' to 'Male' and 'Female'\n",
        "df['Gender'] = df['Gender'].replace({'M': 'Male', 'F': 'Female'})\n",
        "\n",
        "print(\"Updated DataFrame with full gender labels:\\n\", df)\n"
      ]
    },
    {
      "cell_type": "markdown",
      "metadata": {
        "id": "NpAeGAnjf4_O"
      },
      "source": [
        "**3. Howto Re Express Categorical Field Values Using R/Python**"
      ]
    },
    {
      "cell_type": "code",
      "execution_count": null,
      "metadata": {
        "id": "fQoDjigmkgHt",
        "colab": {
          "base_uri": "https://localhost:8080/"
        },
        "outputId": "721de40e-1690-4463-b167-eabb3e176255"
      },
      "outputs": [
        {
          "output_type": "stream",
          "name": "stdout",
          "text": [
            "DataFrame with numerical gender values:\n",
            "    Name  Gender  Gender_Num\n",
            "0  John    Male           0\n",
            "1  Jane  Female           1\n",
            "2   Bob    Male           0\n"
          ]
        }
      ],
      "source": [
        "# Re-express categorical field values to numerical values\n",
        "\n",
        "import pandas as pd\n",
        "\n",
        "# Sample data\n",
        "data = {'Name': ['John', 'Jane', 'Bob'],\n",
        "        'Gender': ['Male', 'Female', 'Male']}\n",
        "\n",
        "df = pd.DataFrame(data)\n",
        "\n",
        "# Convert categorical 'Gender' to numeric (0 for Male, 1 for Female)\n",
        "df['Gender_Num'] = df['Gender'].map({'Male': 0, 'Female': 1})\n",
        "\n",
        "print(\"DataFrame with numerical gender values:\\n\", df)\n"
      ]
    },
    {
      "cell_type": "markdown",
      "source": [
        "**4. How to Standardise Numeric Fields Using R/Python**"
      ],
      "metadata": {
        "id": "slJorc3zoBlc"
      }
    },
    {
      "cell_type": "code",
      "source": [
        "# Standardizing numeric fields (e.g., z-score normalization)\n",
        "\n",
        "import pandas as pd\n",
        "from sklearn.preprocessing import StandardScaler\n",
        "\n",
        "# Sample data\n",
        "data = {'Name': ['John', 'Jane', 'Bob'],\n",
        "        'Age': [28, 34, 29]}\n",
        "\n",
        "df = pd.DataFrame(data)\n",
        "\n",
        "# Standardize the 'Age' column\n",
        "scaler = StandardScaler()\n",
        "df['Age_Standardized'] = scaler.fit_transform(df[['Age']])\n",
        "\n",
        "print(\"DataFrame with standardized Age:\\n\", df)"
      ],
      "metadata": {
        "id": "AwWbloMRoJ_Y",
        "outputId": "d5c31860-c6d5-4d82-ed82-873f23f7cc31",
        "colab": {
          "base_uri": "https://localhost:8080/"
        }
      },
      "execution_count": 1,
      "outputs": [
        {
          "output_type": "stream",
          "name": "stdout",
          "text": [
            "DataFrame with standardized Age:\n",
            "    Name  Age  Age_Standardized\n",
            "0  John   28         -0.889001\n",
            "1  Jane   34          1.397001\n",
            "2   Bob   29         -0.508001\n"
          ]
        }
      ]
    },
    {
      "cell_type": "markdown",
      "source": [
        "**5. How to Identify Outliers Using R/Python**"
      ],
      "metadata": {
        "id": "DAa4Fy2voPIU"
      }
    },
    {
      "cell_type": "code",
      "source": [
        "# Identifying outliers using the IQR method\n",
        "\n",
        "import pandas as pd\n",
        "\n",
        "# Sample data\n",
        "data = {'Name': ['John', 'Jane', 'Bob', 'Alice', 'Tom'],\n",
        "        'Age': [28, 34, 29, 50, 16]}\n",
        "\n",
        "df = pd.DataFrame(data)\n",
        "\n",
        "# Calculate IQR (Interquartile Range)\n",
        "Q1 = df['Age'].quantile(0.25)\n",
        "Q3 = df['Age'].quantile(0.75)\n",
        "IQR = Q3 - Q1\n",
        "\n",
        "# Identify outliers\n",
        "lower_bound = Q1 - 1.5 * IQR\n",
        "upper_bound = Q3 + 1.5 * IQR\n",
        "outliers = df[(df['Age'] < lower_bound) | (df['Age'] > upper_bound)]\n",
        "\n",
        "print(\"Outliers in the data:\\n\", outliers)\n"
      ],
      "metadata": {
        "id": "7GnZ8T0ioZJt",
        "outputId": "efad9b0e-84fb-4e46-b196-bf0afbaf1c03",
        "colab": {
          "base_uri": "https://localhost:8080/"
        }
      },
      "execution_count": 2,
      "outputs": [
        {
          "output_type": "stream",
          "name": "stdout",
          "text": [
            "Outliers in the data:\n",
            "     Name  Age\n",
            "3  Alice   50\n",
            "4    Tom   16\n"
          ]
        }
      ]
    }
  ]
}
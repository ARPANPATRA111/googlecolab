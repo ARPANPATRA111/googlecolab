{
  "cells": [
    {
      "cell_type": "markdown",
      "metadata": {
        "id": "hqn91olejK7b"
      },
      "source": [
        "# 2: DATA PREPARATION"
      ]
    },
    {
      "cell_type": "markdown",
      "metadata": {
        "id": "t5quZDFLjK7d"
      },
      "source": [
        "**1. How to Add an Index Field Using R/Python**"
      ]
    },
    {
      "cell_type": "code",
      "execution_count": null,
      "metadata": {
        "id": "Lz6w5tYYjK7d"
      },
      "outputs": [],
      "source": [
        "# Adding an index field to a DataFrame\n",
        "\n",
        "import pandas as pd\n",
        "\n",
        "# Sample data without an index\n",
        "data = {'Name': ['John', 'Jane', 'Bob'],\n",
        "        'Age': [28, 34, 29]}\n",
        "\n",
        "df = pd.DataFrame(data)\n",
        "\n",
        "# Add a new index field\n",
        "df['Index'] = df.index\n",
        "\n",
        "print(\"DataFrame with Index column:\\n\", df)"
      ]
    },
    {
      "cell_type": "markdown",
      "metadata": {
        "id": "UPxSNhIgjK7f"
      },
      "source": [
        "**2. How to Change Misleading Field Values Using R/Python**"
      ]
    },
    {
      "cell_type": "code",
      "execution_count": null,
      "metadata": {
        "id": "QUgxb4PajK7g"
      },
      "outputs": [],
      "source": [
        "# Changing misleading field values in a DataFrame\n",
        "\n",
        "import pandas as pd\n",
        "\n",
        "# Sample data\n",
        "data = {'Name': ['John', 'Jane', 'Bob'],\n",
        "        'Age': [28, 34, 29],\n",
        "        'Gender': ['M', 'F', 'M']}\n",
        "\n",
        "df = pd.DataFrame(data)\n",
        "\n",
        "# Change 'M' and 'F' to 'Male' and 'Female'\n",
        "df['Gender'] = df['Gender'].replace({'M': 'Male', 'F': 'Female'})\n",
        "\n",
        "print(\"Updated DataFrame with full gender labels:\\n\", df)\n"
      ]
    }
  ],
  "metadata": {
    "language_info": {
      "name": "python"
    },
    "colab": {
      "provenance": [],
      "toc_visible": true
    }
  },
  "nbformat": 4,
  "nbformat_minor": 0
}
{
  "nbformat": 4,
  "nbformat_minor": 0,
  "metadata": {
    "colab": {
      "provenance": [],
      "authorship_tag": "ABX9TyMh3ichwUNE5cSm81fI0M4m",
      "include_colab_link": true
    },
    "kernelspec": {
      "name": "python3",
      "display_name": "Python 3"
    },
    "language_info": {
      "name": "python"
    }
  },
  "cells": [
    {
      "cell_type": "markdown",
      "metadata": {
        "id": "view-in-github",
        "colab_type": "text"
      },
      "source": [
        "<a href=\"https://colab.research.google.com/github/ARPANPATRA111/googlecolab/blob/main/%234DATA_PREPARATION_PHASE_TO_MODEL_THE_DATA.ipynb\" target=\"_parent\"><img src=\"https://colab.research.google.com/assets/colab-badge.svg\" alt=\"Open In Colab\"/></a>"
      ]
    },
    {
      "cell_type": "markdown",
      "source": [
        "#4:  DATA PREPARATION PHASE TO MODEL THE DATA"
      ],
      "metadata": {
        "id": "addak8DQqwcU"
      }
    },
    {
      "cell_type": "markdown",
      "source": [
        "**1. How to Partition the Data R/Python**"
      ],
      "metadata": {
        "id": "IlEVXXIlrBlH"
      }
    },
    {
      "cell_type": "code",
      "source": [
        "# Partitioning data into training and test sets using scikit-learn\n",
        "\n",
        "import pandas as pd\n",
        "from sklearn.model_selection import train_test_split\n",
        "\n",
        "# Sample data\n",
        "data = {'Feature1': [2.5, 3.6, 4.8, 5.1, 6.3],\n",
        "        'Feature2': [1.5, 2.4, 3.6, 4.1, 5.0],\n",
        "        'Target': [0, 1, 1, 0, 1]}\n",
        "\n",
        "df = pd.DataFrame(data)\n",
        "\n",
        "# Split the data into training and test sets (80% train, 20% test)\n",
        "X = df[['Feature1', 'Feature2']]\n",
        "y = df['Target']\n",
        "X_train, X_test, y_train, y_test = train_test_split(X, y, test_size=0.2, random_state=42)\n",
        "\n",
        "print(\"Training Data:\\n\", X_train)\n",
        "print(\"Test Data:\\n\", X_test)\n"
      ],
      "metadata": {
        "colab": {
          "base_uri": "https://localhost:8080/"
        },
        "id": "iT2fPXgYrALN",
        "outputId": "18cea54d-5fbc-44ad-d11f-1cfbdb3faa3b"
      },
      "execution_count": 1,
      "outputs": [
        {
          "output_type": "stream",
          "name": "stdout",
          "text": [
            "Training Data:\n",
            "    Feature1  Feature2\n",
            "4       6.3       5.0\n",
            "2       4.8       3.6\n",
            "0       2.5       1.5\n",
            "3       5.1       4.1\n",
            "Test Data:\n",
            "    Feature1  Feature2\n",
            "1       3.6       2.4\n"
          ]
        }
      ]
    },
    {
      "cell_type": "markdown",
      "source": [
        "**2. Howto Balance the Training Data Set R/Python**"
      ],
      "metadata": {
        "id": "Srv8zxgdrNLN"
      }
    },
    {
      "cell_type": "code",
      "source": [
        "# Balancing the training data set using RandomOverSampler from imbalanced-learn\n",
        "\n",
        "import pandas as pd\n",
        "from imblearn.over_sampling import RandomOverSampler\n",
        "\n",
        "# Sample imbalanced data\n",
        "data = {'Feature1': [1, 2, 3, 4, 5, 6],\n",
        "        'Feature2': [10, 20, 30, 40, 50, 60],\n",
        "        'Target': [0, 0, 0, 0, 1, 1]}\n",
        "\n",
        "df = pd.DataFrame(data)\n",
        "\n",
        "# Split features and target\n",
        "X = df[['Feature1', 'Feature2']]\n",
        "y = df['Target']\n",
        "\n",
        "# Apply random oversampling\n",
        "ros = RandomOverSampler(random_state=42)\n",
        "X_resampled, y_resampled = ros.fit_resample(X, y)\n",
        "\n",
        "# Convert back to DataFrame for visualization\n",
        "resampled_df = pd.DataFrame(X_resampled, columns=['Feature1', 'Feature2'])\n",
        "resampled_df['Target'] = y_resampled\n",
        "\n",
        "print(\"Balanced Data Set:\\n\", resampled_df)\n"
      ],
      "metadata": {
        "colab": {
          "base_uri": "https://localhost:8080/"
        },
        "id": "8pkhEyoHrQyM",
        "outputId": "a0b1ee8a-ee7d-49ce-88a8-1dc3b8d8bc36"
      },
      "execution_count": 2,
      "outputs": [
        {
          "output_type": "stream",
          "name": "stdout",
          "text": [
            "Balanced Data Set:\n",
            "    Feature1  Feature2  Target\n",
            "0         1        10       0\n",
            "1         2        20       0\n",
            "2         3        30       0\n",
            "3         4        40       0\n",
            "4         5        50       1\n",
            "5         6        60       1\n",
            "6         5        50       1\n",
            "7         6        60       1\n"
          ]
        }
      ]
    },
    {
      "cell_type": "markdown",
      "source": [
        "**3. How to Build CART Decision Trees Using R/Python**"
      ],
      "metadata": {
        "id": "_Ous4NkRrUIj"
      }
    },
    {
      "cell_type": "code",
      "source": [
        "# Building a CART decision tree using scikit-learn\n",
        "\n",
        "from sklearn.tree import DecisionTreeClassifier\n",
        "from sklearn.datasets import load_iris\n",
        "from sklearn.model_selection import train_test_split\n",
        "from sklearn.metrics import accuracy_score\n",
        "\n",
        "# Load the iris dataset\n",
        "iris = load_iris()\n",
        "X = iris.data\n",
        "y = iris.target\n",
        "\n",
        "# Split data into training and testing sets\n",
        "X_train, X_test, y_train, y_test = train_test_split(X, y, test_size=0.2, random_state=42)\n",
        "\n",
        "# Build a CART decision tree\n",
        "clf = DecisionTreeClassifier()\n",
        "clf.fit(X_train, y_train)\n",
        "\n",
        "# Predict and evaluate the model\n",
        "y_pred = clf.predict(X_test)\n",
        "accuracy = accuracy_score(y_test, y_pred)\n",
        "\n",
        "print(\"CART Decision Tree Accuracy:\", accuracy)\n"
      ],
      "metadata": {
        "colab": {
          "base_uri": "https://localhost:8080/"
        },
        "id": "Mdpx5JPorZp9",
        "outputId": "12d5c487-95d2-46ad-9f52-f782c7fcd83e"
      },
      "execution_count": 3,
      "outputs": [
        {
          "output_type": "stream",
          "name": "stdout",
          "text": [
            "CART Decision Tree Accuracy: 1.0\n"
          ]
        }
      ]
    },
    {
      "cell_type": "markdown",
      "source": [
        "**5. How to Build Random Forests R/Python**"
      ],
      "metadata": {
        "id": "zgx5AEdtrczD"
      }
    },
    {
      "cell_type": "code",
      "source": [
        "# Building a random forest classifier using scikit-learn\n",
        "\n",
        "from sklearn.ensemble import RandomForestClassifier\n",
        "from sklearn.datasets import load_iris\n",
        "from sklearn.model_selection import train_test_split\n",
        "from sklearn.metrics import accuracy_score\n",
        "\n",
        "# Load the iris dataset\n",
        "iris = load_iris()\n",
        "X = iris.data\n",
        "y = iris.target\n",
        "\n",
        "# Split data into training and testing sets\n",
        "X_train, X_test, y_train, y_test = train_test_split(X, y, test_size=0.2, random_state=42)\n",
        "\n",
        "# Build a random forest classifier\n",
        "rf_clf = RandomForestClassifier(n_estimators=100)\n",
        "rf_clf.fit(X_train, y_train)\n",
        "\n",
        "# Predict and evaluate the model\n",
        "y_pred = rf_clf.predict(X_test)\n",
        "accuracy = accuracy_score(y_test, y_pred)\n",
        "\n",
        "print(\"Random Forest Accuracy:\", accuracy)\n"
      ],
      "metadata": {
        "colab": {
          "base_uri": "https://localhost:8080/"
        },
        "id": "WwoyBEgbrohp",
        "outputId": "b6e095e6-489e-4546-aed6-bcc2523d5599"
      },
      "execution_count": 4,
      "outputs": [
        {
          "output_type": "stream",
          "name": "stdout",
          "text": [
            "Random Forest Accuracy: 1.0\n"
          ]
        }
      ]
    }
  ]
}
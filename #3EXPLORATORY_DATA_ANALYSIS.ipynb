{
  "nbformat": 4,
  "nbformat_minor": 0,
  "metadata": {
    "colab": {
      "provenance": [],
      "toc_visible": true,
      "authorship_tag": "ABX9TyNptR90pX4MoIKkoUTepYMQ",
      "include_colab_link": true
    },
    "kernelspec": {
      "name": "python3",
      "display_name": "Python 3"
    },
    "language_info": {
      "name": "python"
    }
  },
  "cells": [
    {
      "cell_type": "markdown",
      "metadata": {
        "id": "view-in-github",
        "colab_type": "text"
      },
      "source": [
        "<a href=\"https://colab.research.google.com/github/ARPANPATRA111/googlecolab/blob/main/%233EXPLORATORY_DATA_ANALYSIS.ipynb\" target=\"_parent\"><img src=\"https://colab.research.google.com/assets/colab-badge.svg\" alt=\"Open In Colab\"/></a>"
      ]
    },
    {
      "cell_type": "markdown",
      "source": [
        "#3: EXPLORATORYDATAANALYSIS"
      ],
      "metadata": {
        "id": "xELAXF-mpcMm"
      }
    },
    {
      "cell_type": "markdown",
      "source": [
        "**1. Howto Construct a Bar Graph with Overlay Using R/Python**"
      ],
      "metadata": {
        "id": "ef59oNJLpiB1"
      }
    },
    {
      "cell_type": "code",
      "source": [
        "# Constructing a bar graph with overlay using Matplotlib\n",
        "\n",
        "import matplotlib.pyplot as plt\n",
        "import numpy as np\n",
        "\n",
        "# Data for the bar graph\n",
        "categories = ['A', 'B', 'C']\n",
        "values = [10, 15, 7]\n",
        "overlay_values = [2, 5, 1]\n",
        "\n",
        "# Create the bar graph\n",
        "plt.bar(categories, values, color='blue', label='Main Values')\n",
        "\n",
        "# Overlay bars (slightly shifted to avoid overlap)\n",
        "plt.bar(categories, overlay_values, color='red', label='Overlay Values', alpha=0.6)\n",
        "\n",
        "# Add labels and legend\n",
        "plt.xlabel('Categories')\n",
        "plt.ylabel('Values')\n",
        "plt.title('Bar Graph with Overlay')\n",
        "plt.legend()\n",
        "\n",
        "# Show the plot\n",
        "plt.show()"
      ],
      "metadata": {
        "colab": {
          "base_uri": "https://localhost:8080/",
          "height": 472
        },
        "id": "RUIiACZZpmR6",
        "outputId": "87b0c646-6a29-499d-9084-8cffdc27f6cb"
      },
      "execution_count": 1,
      "outputs": [
        {
          "output_type": "display_data",
          "data": {
            "text/plain": [
              "<Figure size 640x480 with 1 Axes>"
            ],
            "image/png": "[encoded data removed]"
          },
          "metadata": {}
        }
      ]
    },
    {
      "cell_type": "markdown",
      "source": [
        "**2. Howto Construct Contingency Tables Using R/Python**"
      ],
      "metadata": {
        "id": "AxAt0YzDpy2C"
      }
    },
    {
      "cell_type": "code",
      "source": [
        "# Constructing a contingency table (cross-tabulation) using pandas\n",
        "\n",
        "import pandas as pd\n",
        "\n",
        "# Sample data\n",
        "data = {'Gender': ['Male', 'Female', 'Female', 'Male', 'Male'],\n",
        "        'Smoker': ['Yes', 'No', 'Yes', 'No', 'Yes']}\n",
        "\n",
        "df = pd.DataFrame(data)\n",
        "\n",
        "# Create a contingency table\n",
        "contingency_table = pd.crosstab(df['Gender'], df['Smoker'])\n",
        "\n",
        "print(\"Contingency Table:\\n\", contingency_table)\n"
      ],
      "metadata": {
        "colab": {
          "base_uri": "https://localhost:8080/"
        },
        "id": "NKE_cmxzp2XX",
        "outputId": "b47c1652-b0ae-469c-93c6-25f48ca2f55f"
      },
      "execution_count": 2,
      "outputs": [
        {
          "output_type": "stream",
          "name": "stdout",
          "text": [
            "Contingency Table:\n",
            " Smoker  No  Yes\n",
            "Gender         \n",
            "Female   1    1\n",
            "Male     1    2\n"
          ]
        }
      ]
    },
    {
      "cell_type": "markdown",
      "source": [
        "**3. Howto Construct Histograms with Overlay Using R/Python**"
      ],
      "metadata": {
        "id": "wkuSMn-cqA8M"
      }
    },
    {
      "cell_type": "code",
      "source": [
        "# Constructing histograms with overlay using Matplotlib\n",
        "\n",
        "import matplotlib.pyplot as plt\n",
        "import numpy as np\n",
        "\n",
        "# Data for two different categories\n",
        "data1 = np.random.normal(loc=5, scale=2, size=100)\n",
        "data2 = np.random.normal(loc=7, scale=2.5, size=100)\n",
        "\n",
        "# Plot histograms with overlay\n",
        "plt.hist(data1, bins=10, alpha=0.5, label='Category 1', color='blue')\n",
        "plt.hist(data2, bins=10, alpha=0.5, label='Category 2', color='green')\n",
        "\n",
        "# Add labels and title\n",
        "plt.xlabel('Value')\n",
        "plt.ylabel('Frequency')\n",
        "plt.title('Histograms with Overlay')\n",
        "plt.legend()\n",
        "\n",
        "# Show the plot\n",
        "plt.show()\n"
      ],
      "metadata": {
        "colab": {
          "base_uri": "https://localhost:8080/",
          "height": 472
        },
        "id": "AvZB0SeZqESi",
        "outputId": "de128b89-6c20-42fa-d3e5-7c4ead861453"
      },
      "execution_count": 3,
      "outputs": [
        {
          "output_type": "display_data",
          "data": {
            "text/plain": [
              "<Figure size 640x480 with 1 Axes>"
            ],
            "image/png": "[encoded data removed]"
          },
          "metadata": {}
        }
      ]
    },
    {
      "cell_type": "markdown",
      "source": [
        "**4. Howto Perform Binning Based on Predictive Value Using R/Python**"
      ],
      "metadata": {
        "id": "3_EZ3wbzqGor"
      }
    },
    {
      "cell_type": "code",
      "source": [
        "# Performing binning based on predictive value using pandas\n",
        "\n",
        "import pandas as pd\n",
        "import numpy as np\n",
        "\n",
        "# Sample data\n",
        "data = {'Value': np.random.randint(1, 100, 20)}\n",
        "\n",
        "df = pd.DataFrame(data)\n",
        "\n",
        "# Create bins (low, medium, high)\n",
        "bins = [0, 30, 60, 100]\n",
        "labels = ['Low', 'Medium', 'High']\n",
        "\n",
        "# Add a new column 'Binned' based on Value\n",
        "df['Binned'] = pd.cut(df['Value'], bins=bins, labels=labels)\n",
        "\n",
        "print(\"DataFrame with Binned Values:\\n\", df)\n"
      ],
      "metadata": {
        "colab": {
          "base_uri": "https://localhost:8080/"
        },
        "id": "u2xLyNuYqK2e",
        "outputId": "0ba91701-054c-467c-c706-ed12df9c73df"
      },
      "execution_count": 4,
      "outputs": [
        {
          "output_type": "stream",
          "name": "stdout",
          "text": [
            "DataFrame with Binned Values:\n",
            "     Value  Binned\n",
            "0      97    High\n",
            "1      76    High\n",
            "2      95    High\n",
            "3      27     Low\n",
            "4      49  Medium\n",
            "5      19     Low\n",
            "6      10     Low\n",
            "7      32  Medium\n",
            "8      32  Medium\n",
            "9      38  Medium\n",
            "10     55  Medium\n",
            "11     71    High\n",
            "12     96    High\n",
            "13     57  Medium\n",
            "14     33  Medium\n",
            "15     17     Low\n",
            "16     94    High\n",
            "17     94    High\n",
            "18     34  Medium\n",
            "19     23     Low\n"
          ]
        }
      ]
    }
  ]
}